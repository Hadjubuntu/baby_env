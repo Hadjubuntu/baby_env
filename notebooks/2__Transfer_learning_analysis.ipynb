{
 "cells": [
  {
   "cell_type": "markdown",
   "metadata": {},
   "source": [
    "# Study transfer learning\n",
    "Since baby env aims to build model for \"real\" world, here we study the impact of parameters on transfer learning."
   ]
  },
  {
   "cell_type": "code",
   "execution_count": 1,
   "metadata": {},
   "outputs": [],
   "source": [
    "import gym\n",
    "import json\n",
    "import numpy as np\n",
    "import matplotlib.pyplot as plt\n",
    "from PIL import Image\n",
    "\n",
    "import baby.envs\n",
    "from baby.envs.baby_env import default_conf"
   ]
  },
  {
   "cell_type": "code",
   "execution_count": 2,
   "metadata": {},
   "outputs": [],
   "source": [
    "# Create env\n",
    "env = gym.make('baby-v0')"
   ]
  },
  {
   "cell_type": "code",
   "execution_count": 3,
   "metadata": {},
   "outputs": [
    {
     "data": {
      "text/plain": [
       "{'seed': 0,\n",
       " 'n_frame': 20,\n",
       " 'n-xaxis': 21,\n",
       " 'n-yaxis': 9,\n",
       " 'max_episode_iteration': 1000,\n",
       " 'alpha_ground_truth': 0.8,\n",
       " 'validation_threshold': 0.8,\n",
       " 'sigma_prediction': 1.0,\n",
       " 'gamma_gaussian_value': 0.5,\n",
       " 'sigma_gaussian_value': 1.0,\n",
       " 'reward': {'timestep': 0, 'validation': 1}}"
      ]
     },
     "execution_count": 3,
     "metadata": {},
     "output_type": "execute_result"
    }
   ],
   "source": [
    "env.conf"
   ]
  },
  {
   "cell_type": "code",
   "execution_count": 82,
   "metadata": {},
   "outputs": [],
   "source": [
    "env.conf['sigma_prediction'] = 0.3\n",
    "env.conf['gamma_gaussian_value'] = 1.0\n",
    "env.conf['sigma_gaussian_value'] = 0.4\n",
    "\n",
    "env.conf['sigma_prediction'] = 0.8\n",
    "env.conf['gamma_gaussian_value'] = 1.25\n",
    "env.conf['sigma_gaussian_value'] = 0.45\n"
   ]
  },
  {
   "cell_type": "code",
   "execution_count": 83,
   "metadata": {},
   "outputs": [],
   "source": [
    "# We want to compute forecast error depending on (t, ground_truth_values)\n",
    "class_step = 0.1\n",
    "ground_truth_classes = np.arange(start=0.0, stop=1.0, step=0.1)"
   ]
  },
  {
   "cell_type": "code",
   "execution_count": null,
   "metadata": {},
   "outputs": [
    {
     "name": "stdout",
     "output_type": "stream",
     "text": [
      "Resetting env at n=0\n",
      "Resetting env at n=50\n",
      "Resetting env at n=100\n"
     ]
    }
   ],
   "source": [
    "# Create container of absolute error as function of value_class and time\n",
    "error_t = np.zeros(env.conf['n_frame'])\n",
    "error_classes_t = {}\n",
    "count_classes_t = {}\n",
    "\n",
    "# Initialize classes results\n",
    "for c in ground_truth_classes:\n",
    "    error_classes_t[f\"v_{c}_{c+class_step}\"] = np.zeros(env.conf['n_frame'])\n",
    "    count_classes_t[f\"v_{c}_{c+class_step}\"] =  np.zeros(env.conf['n_frame'])\n",
    "\n",
    "    \n",
    "obs = env.reset()\n",
    "t = 0\n",
    "n_iteration = 150\n",
    "freq_reset = 50\n",
    "\n",
    "for n in range(n_iteration):\n",
    "\n",
    "    # Look out on first step\n",
    "    for i in range(env.conf['n_frame']):\n",
    "        ct = i+t\n",
    "        error = np.mean(np.abs(obs[:, :, i] - env.ground_truth[:, :, ct]))\n",
    "        error_t[i] = error\n",
    "\n",
    "\n",
    "        for x in range(env.conf['n-xaxis']):\n",
    "            for y in range(env.conf['n-yaxis']):\n",
    "                abs_e = np.abs(obs[y, x, i] - env.ground_truth[y, x, ct])\n",
    "                idx_class = np.where(obs[y, x, i] >= ground_truth_classes)[0][-1]\n",
    "\n",
    "                start_v = ground_truth_classes[idx_class]\n",
    "                end_v = start_v + class_step\n",
    "\n",
    "                class_str = f\"v_{start_v}_{end_v}\"\n",
    "                error_classes_t[class_str][i] += abs_e\n",
    "                count_classes_t[class_str][i] += 1\n",
    "       \n",
    "    # Fake action\n",
    "    obs, rew, done, info = env.step(0)\n",
    "    t += 1\n",
    "    \n",
    "    if n % freq_reset == 0:\n",
    "        print(f\"Resetting env at n={n}\")\n",
    "        obs = env.reset()\n",
    "        t=0"
   ]
  },
  {
   "cell_type": "code",
   "execution_count": null,
   "metadata": {},
   "outputs": [],
   "source": [
    "plt.plot(error_t)\n",
    "plt.yticks(np.arange(0, 0.5, 0.05))\n",
    "plt.show()"
   ]
  },
  {
   "cell_type": "code",
   "execution_count": null,
   "metadata": {},
   "outputs": [],
   "source": [
    "# Print mean  error classes\n",
    "\n",
    "plt.figure(figsize=(16, 9))\n",
    "    \n",
    "for c in error_classes_t.keys():\n",
    "    d = error_classes_t[c]/count_classes_t[c]\n",
    "    plt.plot(d, label=c)\n",
    "    \n",
    "plt.xlabel('t')\n",
    "plt.ylabel('abs error')\n",
    "\n",
    "plt.yticks(np.arange(0.0, 0.4, 0.05))\n",
    "plt.legend()\n",
    "plt.show()"
   ]
  },
  {
   "cell_type": "code",
   "execution_count": null,
   "metadata": {},
   "outputs": [],
   "source": []
  },
  {
   "cell_type": "code",
   "execution_count": null,
   "metadata": {},
   "outputs": [],
   "source": [
    "# Check first class count\n",
    "count_classes_t[list(count_classes_t.keys())[0]]"
   ]
  },
  {
   "cell_type": "code",
   "execution_count": null,
   "metadata": {},
   "outputs": [],
   "source": []
  },
  {
   "cell_type": "code",
   "execution_count": null,
   "metadata": {},
   "outputs": [],
   "source": []
  },
  {
   "cell_type": "code",
   "execution_count": null,
   "metadata": {},
   "outputs": [],
   "source": []
  },
  {
   "cell_type": "code",
   "execution_count": null,
   "metadata": {},
   "outputs": [],
   "source": []
  },
  {
   "cell_type": "code",
   "execution_count": null,
   "metadata": {},
   "outputs": [],
   "source": []
  }
 ],
 "metadata": {
  "kernelspec": {
   "display_name": "Python 3",
   "language": "python",
   "name": "python3"
  },
  "language_info": {
   "codemirror_mode": {
    "name": "ipython",
    "version": 3
   },
   "file_extension": ".py",
   "mimetype": "text/x-python",
   "name": "python",
   "nbconvert_exporter": "python",
   "pygments_lexer": "ipython3",
   "version": "3.6.8"
  }
 },
 "nbformat": 4,
 "nbformat_minor": 4
}
