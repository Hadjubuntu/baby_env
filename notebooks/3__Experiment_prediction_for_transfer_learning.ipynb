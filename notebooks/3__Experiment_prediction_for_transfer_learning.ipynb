{
 "cells": [
  {
   "cell_type": "markdown",
   "metadata": {},
   "source": [
    "# Experiment prediction for transfer learning"
   ]
  },
  {
   "cell_type": "code",
   "execution_count": 1,
   "metadata": {},
   "outputs": [],
   "source": [
    "import gym\n",
    "import json\n",
    "import numpy as np\n",
    "import matplotlib.pyplot as plt\n",
    "from PIL import Image\n",
    "import time\n",
    "\n",
    "import baby.envs\n",
    "from baby.envs.baby_env import default_conf"
   ]
  },
  {
   "cell_type": "code",
   "execution_count": 2,
   "metadata": {},
   "outputs": [],
   "source": [
    "# Create env\n",
    "env = gym.make('baby-v0')"
   ]
  },
  {
   "cell_type": "code",
   "execution_count": 3,
   "metadata": {},
   "outputs": [
    {
     "data": {
      "text/plain": [
       "array([[[0.62661762, 0.52109797, 0.5752286 , ..., 0.59487137,\n",
       "         0.53832978, 1.        ],\n",
       "        [0.5841025 , 0.47583526, 0.55580941, ..., 0.59813505,\n",
       "         0.54218914, 1.        ],\n",
       "        [0.54834465, 0.42706853, 0.53416315, ..., 0.60366832,\n",
       "         0.54899616, 1.        ],\n",
       "        ...,\n",
       "        [0.59671409, 0.58519285, 0.46067555, ..., 0.54580978,\n",
       "         0.52955134, 1.        ],\n",
       "        [0.64899398, 0.66020175, 0.51385804, ..., 0.55179246,\n",
       "         0.53473126, 1.        ],\n",
       "        [0.69012311, 0.69935962, 0.54061628, ..., 0.55505735,\n",
       "         0.53755728, 1.        ]],\n",
       "\n",
       "       [[0.5632309 , 0.504861  , 0.56568559, ..., 0.5879795 ,\n",
       "         0.53326239, 1.        ],\n",
       "        [0.54164565, 0.46576324, 0.54591578, ..., 0.59129497,\n",
       "         0.53712417, 1.        ],\n",
       "        [0.52404296, 0.42436881, 0.52398824, ..., 0.59694528,\n",
       "         0.54395272, 1.        ],\n",
       "        ...,\n",
       "        [0.52837617, 0.5408417 , 0.43946157, ..., 0.54844535,\n",
       "         0.5319735 , 1.        ],\n",
       "        [0.5549522 , 0.60327915, 0.48572972, ..., 0.55466244,\n",
       "         0.5373112 , 1.        ],\n",
       "        [0.5876519 , 0.6363628 , 0.50992889, ..., 0.55804715,\n",
       "         0.54021624, 1.        ]],\n",
       "\n",
       "       [[0.47637533, 0.48494923, 0.5458417 , ..., 0.57517307,\n",
       "         0.52380564, 1.        ],\n",
       "        [0.48215894, 0.45860999, 0.52805602, ..., 0.57857005,\n",
       "         0.52766357, 1.        ],\n",
       "        [0.49169299, 0.43328189, 0.50963884, ..., 0.58441124,\n",
       "         0.53451726, 1.        ],\n",
       "        ...,\n",
       "        [0.45824489, 0.48495299, 0.41603684, ..., 0.55358182,\n",
       "         0.53667022, 1.        ],\n",
       "        [0.47503877, 0.53107416, 0.4488415 , ..., 0.56025373,\n",
       "         0.54231552, 1.        ],\n",
       "        [0.50614568, 0.55507471, 0.46673872, ..., 0.563871  ,\n",
       "         0.54537483, 1.        ]],\n",
       "\n",
       "       ...,\n",
       "\n",
       "       [[0.51085839, 0.44681775, 0.46039219, ..., 0.50521498,\n",
       "         0.47109745, 1.        ],\n",
       "        [0.50367563, 0.46272002, 0.46161896, ..., 0.5086798 ,\n",
       "         0.47471723, 1.        ],\n",
       "        [0.48850513, 0.48900397, 0.45976849, ..., 0.51488362,\n",
       "         0.48132095, 1.        ],\n",
       "        ...,\n",
       "        [0.63750642, 0.57023194, 0.54994409, ..., 0.58781002,\n",
       "         0.56743256, 1.        ],\n",
       "        [0.54661819, 0.56307955, 0.52414782, ..., 0.59745769,\n",
       "         0.57513341, 1.        ],\n",
       "        [0.48513506, 0.55297909, 0.50368448, ..., 0.60259802,\n",
       "         0.57922874, 1.        ]],\n",
       "\n",
       "       [[0.57399509, 0.43291344, 0.46878049, ..., 0.49372643,\n",
       "         0.46224891, 1.        ],\n",
       "        [0.5411669 , 0.44668925, 0.4651864 , ..., 0.49713333,\n",
       "         0.46578975, 1.        ],\n",
       "        [0.4916896 , 0.46474064, 0.45057254, ..., 0.50327226,\n",
       "         0.47228137, 1.        ],\n",
       "        ...,\n",
       "        [0.64195846, 0.60701686, 0.60490344, ..., 0.59455936,\n",
       "         0.57341931, 1.        ],\n",
       "        [0.55563493, 0.6033403 , 0.57665706, ..., 0.60478594,\n",
       "         0.58152608, 1.        ],\n",
       "        [0.50420547, 0.59794074, 0.55390555, ..., 0.61022281,\n",
       "         0.58582675, 1.        ]],\n",
       "\n",
       "       [[0.6182908 , 0.4209389 , 0.47803819, ..., 0.48768669,\n",
       "         0.45757947, 1.        ],\n",
       "        [0.56762954, 0.43182856, 0.46988047, ..., 0.49105451,\n",
       "         0.46107374, 1.        ],\n",
       "        [0.48853711, 0.44312027, 0.44534899, ..., 0.49714374,\n",
       "         0.46749736, 1.        ],\n",
       "        ...,\n",
       "        [0.63408609, 0.62535335, 0.63767474, ..., 0.59825019,\n",
       "         0.57668157, 1.        ],\n",
       "        [0.57313038, 0.62893525, 0.60982292, ..., 0.60879224,\n",
       "         0.58501023, 1.        ],\n",
       "        [0.53551854, 0.63037732, 0.58711202, ..., 0.61439073,\n",
       "         0.58942323, 1.        ]]])"
      ]
     },
     "execution_count": 3,
     "metadata": {},
     "output_type": "execute_result"
    }
   ],
   "source": [
    "env.reset()"
   ]
  },
  {
   "cell_type": "code",
   "execution_count": 4,
   "metadata": {},
   "outputs": [
    {
     "data": {
      "text/plain": [
       "(9, 21, 1000)"
      ]
     },
     "execution_count": 4,
     "metadata": {},
     "output_type": "execute_result"
    }
   ],
   "source": [
    "ground_truth = env.ground_truth\n",
    "ground_truth.shape"
   ]
  },
  {
   "cell_type": "code",
   "execution_count": 5,
   "metadata": {},
   "outputs": [],
   "source": [
    "frame = ground_truth[:,:,0]"
   ]
  },
  {
   "cell_type": "code",
   "execution_count": 6,
   "metadata": {},
   "outputs": [],
   "source": [
    "small_f = np.identity(3)\n",
    "small_f[0]\n",
    "\n",
    "m = np.einsum('ij,kl->ijkl',frame,small_f)"
   ]
  },
  {
   "cell_type": "code",
   "execution_count": 7,
   "metadata": {},
   "outputs": [
    {
     "data": {
      "text/plain": [
       "(9, 21, 3, 3)"
      ]
     },
     "execution_count": 7,
     "metadata": {},
     "output_type": "execute_result"
    }
   ],
   "source": [
    "m.shape"
   ]
  },
  {
   "cell_type": "code",
   "execution_count": 8,
   "metadata": {},
   "outputs": [
    {
     "data": {
      "text/plain": [
       "array([[0.62146259, 0.61270167, 0.57552063, 0.5074372 , 0.47852954,\n",
       "        0.51151005, 0.59721652, 0.67788036, 0.65578274, 0.59373501,\n",
       "        0.59811948, 0.57431291, 0.54205446, 0.48406234, 0.36280515,\n",
       "        0.30307051, 0.40962387, 0.61170933, 0.70676585, 0.72491966,\n",
       "        0.75546457],\n",
       "       [0.59247715, 0.55595083, 0.53768065, 0.48330176, 0.43032068,\n",
       "        0.44387329, 0.52709704, 0.58360622, 0.56776029, 0.56014841,\n",
       "        0.57998575, 0.51355284, 0.43153139, 0.39601759, 0.39090821,\n",
       "        0.39790777, 0.46374661, 0.55776915, 0.56428557, 0.55027808,\n",
       "        0.59106122],\n",
       "       [0.4753873 , 0.44448358, 0.4834725 , 0.47634521, 0.40897974,\n",
       "        0.39801055, 0.45557369, 0.51877449, 0.54661863, 0.58539421,\n",
       "        0.58434157, 0.45753562, 0.33034763, 0.31280682, 0.36507276,\n",
       "        0.38738907, 0.40596466, 0.42271947, 0.39990323, 0.40964342,\n",
       "        0.49094769],\n",
       "       [0.3779858 , 0.37267982, 0.4330578 , 0.46412317, 0.45640953,\n",
       "        0.46941895, 0.4845355 , 0.52887092, 0.56348546, 0.60413071,\n",
       "        0.57202614, 0.44782681, 0.33195533, 0.30986375, 0.34449588,\n",
       "        0.34613779, 0.35690156, 0.38585559, 0.40681435, 0.43241243,\n",
       "        0.48431274],\n",
       "       [0.41241447, 0.40748161, 0.42494428, 0.45106124, 0.52260599,\n",
       "        0.56829295, 0.54922528, 0.53594568, 0.53297354, 0.56299894,\n",
       "        0.53544771, 0.48063335, 0.43729984, 0.43102299, 0.44784204,\n",
       "        0.42781826, 0.44735123, 0.50629971, 0.54678734, 0.53224149,\n",
       "        0.49356905],\n",
       "       [0.4402197 , 0.45960891, 0.46401617, 0.47087831, 0.54495823,\n",
       "        0.56612983, 0.53408844, 0.51189717, 0.51966951, 0.55970191,\n",
       "        0.5576675 , 0.55551658, 0.55794359, 0.57500338, 0.58609302,\n",
       "        0.55232495, 0.57723735, 0.65155968, 0.65180262, 0.56110368,\n",
       "        0.46558359],\n",
       "       [0.46320796, 0.50305762, 0.51246868, 0.4833093 , 0.50185991,\n",
       "        0.47746685, 0.44123274, 0.45672098, 0.53665143, 0.60108076,\n",
       "        0.58413864, 0.54866582, 0.54115613, 0.58500258, 0.61604102,\n",
       "        0.6064295 , 0.65811853, 0.7348161 , 0.68252162, 0.52271431,\n",
       "        0.40179344],\n",
       "       [0.57708596, 0.55754872, 0.51616405, 0.43374044, 0.40629833,\n",
       "        0.39277575, 0.39913399, 0.43177467, 0.55124232, 0.64220668,\n",
       "        0.5733865 , 0.44332347, 0.41982694, 0.51259816, 0.57328268,\n",
       "        0.61124423, 0.70391896, 0.75083505, 0.65737623, 0.5036252 ,\n",
       "        0.42741934],\n",
       "       [0.61756163, 0.52754008, 0.44075291, 0.3337191 , 0.29111316,\n",
       "        0.32927303, 0.40486335, 0.42946756, 0.53648549, 0.65384039,\n",
       "        0.55701252, 0.35811717, 0.33566848, 0.46678223, 0.53228772,\n",
       "        0.58289814, 0.69555924, 0.71413081, 0.62313799, 0.54434153,\n",
       "        0.54072574]])"
      ]
     },
     "execution_count": 8,
     "metadata": {},
     "output_type": "execute_result"
    }
   ],
   "source": [
    "m[:,:,1,1]"
   ]
  },
  {
   "cell_type": "code",
   "execution_count": 9,
   "metadata": {},
   "outputs": [
    {
     "data": {
      "text/plain": [
       "array([[0.62146259, 0.61270167, 0.57552063, 0.5074372 , 0.47852954,\n",
       "        0.51151005, 0.59721652, 0.67788036, 0.65578274, 0.59373501,\n",
       "        0.59811948, 0.57431291, 0.54205446, 0.48406234, 0.36280515,\n",
       "        0.30307051, 0.40962387, 0.61170933, 0.70676585, 0.72491966,\n",
       "        0.75546457],\n",
       "       [0.59247715, 0.55595083, 0.53768065, 0.48330176, 0.43032068,\n",
       "        0.44387329, 0.52709704, 0.58360622, 0.56776029, 0.56014841,\n",
       "        0.57998575, 0.51355284, 0.43153139, 0.39601759, 0.39090821,\n",
       "        0.39790777, 0.46374661, 0.55776915, 0.56428557, 0.55027808,\n",
       "        0.59106122],\n",
       "       [0.4753873 , 0.44448358, 0.4834725 , 0.47634521, 0.40897974,\n",
       "        0.39801055, 0.45557369, 0.51877449, 0.54661863, 0.58539421,\n",
       "        0.58434157, 0.45753562, 0.33034763, 0.31280682, 0.36507276,\n",
       "        0.38738907, 0.40596466, 0.42271947, 0.39990323, 0.40964342,\n",
       "        0.49094769],\n",
       "       [0.3779858 , 0.37267982, 0.4330578 , 0.46412317, 0.45640953,\n",
       "        0.46941895, 0.4845355 , 0.52887092, 0.56348546, 0.60413071,\n",
       "        0.57202614, 0.44782681, 0.33195533, 0.30986375, 0.34449588,\n",
       "        0.34613779, 0.35690156, 0.38585559, 0.40681435, 0.43241243,\n",
       "        0.48431274],\n",
       "       [0.41241447, 0.40748161, 0.42494428, 0.45106124, 0.52260599,\n",
       "        0.56829295, 0.54922528, 0.53594568, 0.53297354, 0.56299894,\n",
       "        0.53544771, 0.48063335, 0.43729984, 0.43102299, 0.44784204,\n",
       "        0.42781826, 0.44735123, 0.50629971, 0.54678734, 0.53224149,\n",
       "        0.49356905],\n",
       "       [0.4402197 , 0.45960891, 0.46401617, 0.47087831, 0.54495823,\n",
       "        0.56612983, 0.53408844, 0.51189717, 0.51966951, 0.55970191,\n",
       "        0.5576675 , 0.55551658, 0.55794359, 0.57500338, 0.58609302,\n",
       "        0.55232495, 0.57723735, 0.65155968, 0.65180262, 0.56110368,\n",
       "        0.46558359],\n",
       "       [0.46320796, 0.50305762, 0.51246868, 0.4833093 , 0.50185991,\n",
       "        0.47746685, 0.44123274, 0.45672098, 0.53665143, 0.60108076,\n",
       "        0.58413864, 0.54866582, 0.54115613, 0.58500258, 0.61604102,\n",
       "        0.6064295 , 0.65811853, 0.7348161 , 0.68252162, 0.52271431,\n",
       "        0.40179344],\n",
       "       [0.57708596, 0.55754872, 0.51616405, 0.43374044, 0.40629833,\n",
       "        0.39277575, 0.39913399, 0.43177467, 0.55124232, 0.64220668,\n",
       "        0.5733865 , 0.44332347, 0.41982694, 0.51259816, 0.57328268,\n",
       "        0.61124423, 0.70391896, 0.75083505, 0.65737623, 0.5036252 ,\n",
       "        0.42741934],\n",
       "       [0.61756163, 0.52754008, 0.44075291, 0.3337191 , 0.29111316,\n",
       "        0.32927303, 0.40486335, 0.42946756, 0.53648549, 0.65384039,\n",
       "        0.55701252, 0.35811717, 0.33566848, 0.46678223, 0.53228772,\n",
       "        0.58289814, 0.69555924, 0.71413081, 0.62313799, 0.54434153,\n",
       "        0.54072574]])"
      ]
     },
     "execution_count": 9,
     "metadata": {},
     "output_type": "execute_result"
    }
   ],
   "source": [
    "frame"
   ]
  },
  {
   "cell_type": "code",
   "execution_count": 10,
   "metadata": {},
   "outputs": [
    {
     "data": {
      "text/plain": [
       "(9, 21)"
      ]
     },
     "execution_count": 10,
     "metadata": {},
     "output_type": "execute_result"
    }
   ],
   "source": [
    "frame.shape"
   ]
  },
  {
   "cell_type": "code",
   "execution_count": 11,
   "metadata": {},
   "outputs": [
    {
     "data": {
      "text/plain": [
       "3"
      ]
     },
     "execution_count": 11,
     "metadata": {},
     "output_type": "execute_result"
    }
   ],
   "source": [
    "np.gcd(frame.shape[0], frame.shape[1])"
   ]
  },
  {
   "cell_type": "code",
   "execution_count": 12,
   "metadata": {},
   "outputs": [],
   "source": [
    "from scipy.ndimage.filters import gaussian_filter"
   ]
  },
  {
   "cell_type": "code",
   "execution_count": 13,
   "metadata": {},
   "outputs": [],
   "source": [
    "m=np.random.rand(6,6)"
   ]
  },
  {
   "cell_type": "code",
   "execution_count": 14,
   "metadata": {},
   "outputs": [
    {
     "data": {
      "text/plain": [
       "<matplotlib.image.AxesImage at 0x7f10350d5fd0>"
      ]
     },
     "execution_count": 14,
     "metadata": {},
     "output_type": "execute_result"
    },
    {
     "data": {
      "image/png": "[encoded data removed]",
      "text/plain": [
       "<Figure size 432x288 with 1 Axes>"
      ]
     },
     "metadata": {
      "needs_background": "light"
     },
     "output_type": "display_data"
    }
   ],
   "source": [
    "plt.imshow(m, cmap='gray', vmin=0., vmax=1., interpolation='nearest', aspect='auto')"
   ]
  },
  {
   "cell_type": "code",
   "execution_count": 27,
   "metadata": {},
   "outputs": [
    {
     "name": "stdout",
     "output_type": "stream",
     "text": [
      "mean abs 0.07968267995123142\n"
     ]
    },
    {
     "data": {
      "text/plain": [
       "<matplotlib.image.AxesImage at 0x7f103273e8d0>"
      ]
     },
     "execution_count": 27,
     "metadata": {},
     "output_type": "execute_result"
    },
    {
     "data": {
      "image/png": "[encoded data removed]",
      "text/plain": [
       "<Figure size 432x288 with 1 Axes>"
      ]
     },
     "metadata": {
      "needs_background": "light"
     },
     "output_type": "display_data"
    }
   ],
   "source": [
    "m_gauss = gaussian_filter(m, sigma=0.5, order=0)\n",
    "print(f\"mean abs {np.mean(np.abs(m-m_gauss))}\")\n",
    "\n",
    "\n",
    "plt.imshow(m_gauss, cmap='gray', vmin=0., vmax=1., interpolation='nearest', aspect='auto')"
   ]
  },
  {
   "cell_type": "code",
   "execution_count": 16,
   "metadata": {},
   "outputs": [
    {
     "name": "stdout",
     "output_type": "stream",
     "text": [
      "Gaussian filter lasts for 0.0003063678741455078 seconds // mean abs 0.07968267995123142\n"
     ]
    },
    {
     "data": {
      "text/plain": [
       "<matplotlib.image.AxesImage at 0x7f103296c6a0>"
      ]
     },
     "execution_count": 16,
     "metadata": {},
     "output_type": "execute_result"
    },
    {
     "data": {
      "image/png": "[encoded data removed]",
      "text/plain": [
       "<Figure size 432x288 with 1 Axes>"
      ]
     },
     "metadata": {
      "needs_background": "light"
     },
     "output_type": "display_data"
    }
   ],
   "source": [
    "t=time.time()\n",
    "m_gauss = gaussian_filter(m, sigma=0.5)\n",
    "dt = time.time()-t\n",
    "\n",
    "print(f\"Gaussian filter lasts for {dt} seconds // mean abs {np.mean(np.abs(m-m_gauss))}\")\n",
    "\n",
    "plt.imshow(m_gauss, cmap='gray', vmin=0., vmax=1., interpolation='nearest', aspect='auto')"
   ]
  },
  {
   "cell_type": "code",
   "execution_count": 17,
   "metadata": {},
   "outputs": [],
   "source": [
    "def brute_gaussian(m, sigma: int = 2):\n",
    "    shape = m.shape\n",
    "    kernel = np.ones((sigma,sigma))\n",
    "    pad = int(kernel.shape[0] / 2)\n",
    "    \n",
    "    print(kernel)\n",
    "        \n",
    "    m_ext = np.pad(m, pad_width=kernel.shape)\n",
    "    m_res = np.copy(m)\n",
    "    \n",
    "    for i in range(shape[0]):        \n",
    "        for j in range(shape[1]):\n",
    "            ip = i+pad\n",
    "            jp = j+pad\n",
    "            \n",
    "            m_blur = m_ext[ip-pad:ip+pad, jp-pad:jp+pad]\n",
    "            \n",
    "            print(m_blur)\n",
    "            print(kernel)\n",
    "            \n",
    "            m_blur *= kernel\n",
    "            print(f\"{m_res[i,j]} ======> {np.mean(m_blur)}\")\n",
    "            m_res[i, j] = np.mean(m_blur)\n",
    "            \n",
    "            break\n",
    "        break\n",
    "            \n",
    "    return m_res\n"
   ]
  },
  {
   "cell_type": "code",
   "execution_count": 18,
   "metadata": {},
   "outputs": [
    {
     "name": "stdout",
     "output_type": "stream",
     "text": [
      "[[1. 1.]\n",
      " [1. 1.]]\n",
      "[[0. 0.]\n",
      " [0. 0.]]\n",
      "[[1. 1.]\n",
      " [1. 1.]]\n",
      "0.7867181562619641 ======> 0.0\n",
      "brute lasts for 0.0008742809295654297 seconds\n"
     ]
    },
    {
     "data": {
      "text/plain": [
       "<matplotlib.image.AxesImage at 0x7f103294dac8>"
      ]
     },
     "execution_count": 18,
     "metadata": {},
     "output_type": "execute_result"
    },
    {
     "data": {
      "image/png": "[encoded data removed]",
      "text/plain": [
       "<Figure size 432x288 with 1 Axes>"
      ]
     },
     "metadata": {
      "needs_background": "light"
     },
     "output_type": "display_data"
    }
   ],
   "source": [
    "t=time.time()\n",
    "brt = brute_gaussian(m)\n",
    "dt = time.time()-t\n",
    "\n",
    "print(f\"brute lasts for {dt} seconds\")\n",
    "\n",
    "plt.imshow(brt, cmap='gray', vmin=0., vmax=1., interpolation='nearest', aspect='auto')"
   ]
  },
  {
   "cell_type": "code",
   "execution_count": 19,
   "metadata": {},
   "outputs": [
    {
     "data": {
      "text/plain": [
       "0.02185328211838789"
      ]
     },
     "execution_count": 19,
     "metadata": {},
     "output_type": "execute_result"
    }
   ],
   "source": [
    "np.mean(np.abs(brt-m))"
   ]
  },
  {
   "cell_type": "markdown",
   "metadata": {},
   "source": [
    "# Trial of n-gaussian filter with sigma related to value\n",
    "Since it's difficult to formulate an all-in-one formulae,\n",
    "try to execute multiple gaussian filter on small matrix subset by applying a filter \n",
    "with a specific sigma depending on the area mean value"
   ]
  },
  {
   "cell_type": "code",
   "execution_count": 20,
   "metadata": {},
   "outputs": [],
   "source": [
    "origin_m = env.ground_truth[:,:,10]"
   ]
  },
  {
   "cell_type": "code",
   "execution_count": 21,
   "metadata": {},
   "outputs": [],
   "source": [
    "def sigma_v(v, gamma, mu=0.5, sigma=0.3):\n",
    "    return gamma * np.exp(-(v-mu)**2/(2*sigma**2))\n",
    "\n",
    "def n_gaussian_filter(m, ni, nj, sigma_v_func, gamma):\n",
    "    im = int(np.ceil(m.shape[0]/ni))\n",
    "    jm = int(np.ceil(m.shape[1]/nj))\n",
    "        \n",
    "    out_m = np.copy(m)\n",
    "    \n",
    "    for i in range(im):\n",
    "        for j in range(jm):\n",
    "            sub_m = out_m[i*ni:(i+1)*ni, j*nj:(j+1)*nj]\n",
    "            mean_sub_m = np.mean(sub_m)\n",
    "            \n",
    "            sub_m = gaussian_filter(sub_m, sigma=sigma_v_func(mean_sub_m, gamma))\n",
    "            \n",
    "            out_m[i*ni:(i+1)*ni, j*nj:(j+1)*nj] = sub_m\n",
    "            \n",
    "    return out_m"
   ]
  },
  {
   "cell_type": "code",
   "execution_count": 22,
   "metadata": {},
   "outputs": [
    {
     "name": "stdout",
     "output_type": "stream",
     "text": [
      "Duration n-gaussian-filter method = 0.006521701812744141 seconds\n"
     ]
    },
    {
     "data": {
      "text/plain": [
       "<matplotlib.image.AxesImage at 0x7f10328b0860>"
      ]
     },
     "execution_count": 22,
     "metadata": {},
     "output_type": "execute_result"
    },
    {
     "data": {
      "image/png": "[encoded data removed]",
      "text/plain": [
       "<Figure size 432x288 with 1 Axes>"
      ]
     },
     "metadata": {
      "needs_background": "light"
     },
     "output_type": "display_data"
    }
   ],
   "source": [
    "t=time.time()\n",
    "m_ngauss = n_gaussian_filter(origin_m, ni=2, nj=2, sigma_v_func=sigma_v, gamma=2.0)\n",
    "dt = time.time() - t\n",
    "\n",
    "print(f\"Duration n-gaussian-filter method = {dt} seconds\")\n",
    "plt.imshow(m_ngauss, cmap='gray', vmin=0., vmax=1., interpolation='nearest', aspect='auto')"
   ]
  },
  {
   "cell_type": "code",
   "execution_count": 23,
   "metadata": {},
   "outputs": [
    {
     "data": {
      "text/plain": [
       "<matplotlib.image.AxesImage at 0x7f10328924e0>"
      ]
     },
     "execution_count": 23,
     "metadata": {},
     "output_type": "execute_result"
    },
    {
     "data": {
      "image/png": "[encoded data removed]",
      "text/plain": [
       "<Figure size 432x288 with 1 Axes>"
      ]
     },
     "metadata": {
      "needs_background": "light"
     },
     "output_type": "display_data"
    }
   ],
   "source": [
    "plt.imshow(origin_m, cmap='gray', vmin=0., vmax=1., interpolation='nearest', aspect='auto')"
   ]
  },
  {
   "cell_type": "code",
   "execution_count": null,
   "metadata": {},
   "outputs": [],
   "source": []
  },
  {
   "cell_type": "code",
   "execution_count": 24,
   "metadata": {},
   "outputs": [
    {
     "data": {
      "image/png": "[encoded data removed]",
      "text/plain": [
       "<Figure size 432x288 with 1 Axes>"
      ]
     },
     "metadata": {
      "needs_background": "light"
     },
     "output_type": "display_data"
    }
   ],
   "source": [
    "x=np.arange(start=0, stop=1.1, step=0.1)\n",
    "mu=0.5\n",
    "sigma=0.2\n",
    "plt.plot(np.exp(-(x-mu)**2/(2*sigma**2)))\n",
    "plt.show()"
   ]
  },
  {
   "cell_type": "code",
   "execution_count": null,
   "metadata": {},
   "outputs": [],
   "source": []
  },
  {
   "cell_type": "code",
   "execution_count": 25,
   "metadata": {},
   "outputs": [
    {
     "data": {
      "text/plain": [
       "0.0"
      ]
     },
     "execution_count": 25,
     "metadata": {},
     "output_type": "execute_result"
    }
   ],
   "source": [
    "np.sqrt(0)"
   ]
  },
  {
   "cell_type": "code",
   "execution_count": null,
   "metadata": {},
   "outputs": [],
   "source": []
  }
 ],
 "metadata": {
  "kernelspec": {
   "display_name": "Python 3",
   "language": "python",
   "name": "python3"
  },
  "language_info": {
   "codemirror_mode": {
    "name": "ipython",
    "version": 3
   },
   "file_extension": ".py",
   "mimetype": "text/x-python",
   "name": "python",
   "nbconvert_exporter": "python",
   "pygments_lexer": "ipython3",
   "version": "3.6.8"
  }
 },
 "nbformat": 4,
 "nbformat_minor": 4
}
