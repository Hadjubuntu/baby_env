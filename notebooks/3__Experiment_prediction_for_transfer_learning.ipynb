{
 "cells": [
  {
   "cell_type": "markdown",
   "metadata": {},
   "source": [
    "# Experiment prediction for transfer learning"
   ]
  },
  {
   "cell_type": "code",
   "execution_count": 1,
   "metadata": {},
   "outputs": [],
   "source": [
    "import gym\n",
    "import json\n",
    "import numpy as np\n",
    "import matplotlib.pyplot as plt\n",
    "from PIL import Image\n",
    "import time\n",
    "\n",
    "import baby.envs\n",
    "from baby.envs.baby_env import default_conf"
   ]
  },
  {
   "cell_type": "code",
   "execution_count": 2,
   "metadata": {},
   "outputs": [],
   "source": [
    "# Create env\n",
    "env = gym.make('baby-v0')"
   ]
  },
  {
   "cell_type": "code",
   "execution_count": 3,
   "metadata": {},
   "outputs": [
    {
     "data": {
      "text/plain": [
       "array([[[0.67657011, 0.57600754, 0.67332337, ..., 0.24240227,\n",
       "         0.23858424, 1.        ],\n",
       "        [0.59290923, 0.41079636, 0.60503964, ..., 0.27560987,\n",
       "         0.30307511, 1.        ],\n",
       "        [0.54990147, 0.28380033, 0.49064851, ..., 0.41058835,\n",
       "         0.33293508, 1.        ],\n",
       "        ...,\n",
       "        [0.55652337, 0.5178497 , 0.51376602, ..., 0.30071923,\n",
       "         0.76058263, 1.        ],\n",
       "        [0.63792982, 0.59439694, 0.54788089, ..., 0.39374987,\n",
       "         0.91390293, 1.        ],\n",
       "        [0.71840076, 0.63934409, 0.51190224, ..., 0.39281085,\n",
       "         0.84938355, 1.        ]],\n",
       "\n",
       "       [[0.58321968, 0.5282249 , 0.62633176, ..., 0.24802823,\n",
       "         0.25317025, 1.        ],\n",
       "        [0.54708073, 0.38077507, 0.58634651, ..., 0.35639134,\n",
       "         0.28171905, 1.        ],\n",
       "        [0.53382003, 0.28839504, 0.51464783, ..., 0.55039891,\n",
       "         0.23870706, 1.        ],\n",
       "        ...,\n",
       "        [0.49798636, 0.50583733, 0.40187547, ..., 0.3266653 ,\n",
       "         0.80506448, 1.        ],\n",
       "        [0.52876899, 0.54962423, 0.51010704, ..., 0.41645552,\n",
       "         0.99789505, 1.        ],\n",
       "        [0.58424923, 0.60030632, 0.56297465, ..., 0.43653295,\n",
       "         0.99317057, 1.        ]],\n",
       "\n",
       "       [[0.47406658, 0.48561688, 0.54217217, ..., 0.39428144,\n",
       "         0.22628943, 1.        ],\n",
       "        [0.49242311, 0.38798592, 0.55980345, ..., 0.54233971,\n",
       "         0.27498008, 1.        ],\n",
       "        [0.51675288, 0.32609942, 0.55300186, ..., 0.70977291,\n",
       "         0.19029099, 1.        ],\n",
       "        ...,\n",
       "        [0.44165996, 0.45514981, 0.32102786, ..., 0.59992044,\n",
       "         0.70364115, 1.        ],\n",
       "        [0.4544013 , 0.45391583, 0.46064747, ..., 0.56809125,\n",
       "         0.86442081, 1.        ],\n",
       "        [0.50165652, 0.4646535 , 0.5457612 , ..., 0.44636824,\n",
       "         0.83014869, 1.        ]],\n",
       "\n",
       "       ...,\n",
       "\n",
       "       [[0.5363629 , 0.50787256, 0.37434288, ..., 0.76102576,\n",
       "         0.74690905, 1.        ],\n",
       "        [0.51877409, 0.49337266, 0.42336918, ..., 0.58121613,\n",
       "         0.64286015, 1.        ],\n",
       "        [0.49348859, 0.48722027, 0.35915437, ..., 0.36951893,\n",
       "         0.45559362, 1.        ],\n",
       "        ...,\n",
       "        [0.6625299 , 0.57156421, 0.62472678, ..., 0.57476974,\n",
       "         0.34839564, 1.        ],\n",
       "        [0.55410572, 0.58443661, 0.53399364, ..., 0.65094345,\n",
       "         0.45179496, 1.        ],\n",
       "        [0.49595627, 0.57487912, 0.41887973, ..., 0.68710718,\n",
       "         0.55011923, 1.        ]],\n",
       "\n",
       "       [[0.62309227, 0.42135298, 0.3716347 , ..., 0.70075505,\n",
       "         0.57698403, 1.        ],\n",
       "        [0.57284809, 0.42572701, 0.45890436, ..., 0.61833091,\n",
       "         0.53237077, 1.        ],\n",
       "        [0.50811788, 0.44836696, 0.41428818, ..., 0.53226026,\n",
       "         0.4225995 , 1.        ],\n",
       "        ...,\n",
       "        [0.66323049, 0.60990297, 0.62260219, ..., 0.6751435 ,\n",
       "         0.51935376, 1.        ],\n",
       "        [0.56977262, 0.64770362, 0.50510265, ..., 0.76581511,\n",
       "         0.5609532 , 1.        ],\n",
       "        [0.52680642, 0.64535225, 0.38365343, ..., 0.88053131,\n",
       "         0.67727209, 1.        ]],\n",
       "\n",
       "       [[0.69374209, 0.30464777, 0.36180204, ..., 0.80221922,\n",
       "         0.44791172, 1.        ],\n",
       "        [0.62959406, 0.3281873 , 0.45213186, ..., 0.72996095,\n",
       "         0.50268192, 1.        ],\n",
       "        [0.52988777, 0.38808728, 0.42465919, ..., 0.75617414,\n",
       "         0.43562591, 1.        ],\n",
       "        ...,\n",
       "        [0.64520065, 0.64090792, 0.59245605, ..., 0.7007092 ,\n",
       "         0.59965797, 1.        ],\n",
       "        [0.5955513 , 0.68516395, 0.45964565, ..., 0.81416847,\n",
       "         0.62882072, 1.        ],\n",
       "        [0.56292363, 0.68849693, 0.35238305, ..., 1.        ,\n",
       "         0.78146634, 1.        ]]])"
      ]
     },
     "execution_count": 3,
     "metadata": {},
     "output_type": "execute_result"
    }
   ],
   "source": [
    "env.reset()"
   ]
  },
  {
   "cell_type": "code",
   "execution_count": 4,
   "metadata": {},
   "outputs": [
    {
     "data": {
      "text/plain": [
       "(9, 21, 1000)"
      ]
     },
     "execution_count": 4,
     "metadata": {},
     "output_type": "execute_result"
    }
   ],
   "source": [
    "ground_truth = env.ground_truth\n",
    "ground_truth.shape"
   ]
  },
  {
   "cell_type": "code",
   "execution_count": 5,
   "metadata": {},
   "outputs": [],
   "source": [
    "frame = ground_truth[:,:,0]"
   ]
  },
  {
   "cell_type": "code",
   "execution_count": 6,
   "metadata": {},
   "outputs": [],
   "source": [
    "small_f = np.identity(3)\n",
    "small_f[0]\n",
    "\n",
    "m = np.einsum('ij,kl->ijkl',frame,small_f)"
   ]
  },
  {
   "cell_type": "code",
   "execution_count": 7,
   "metadata": {},
   "outputs": [
    {
     "data": {
      "text/plain": [
       "(9, 21, 3, 3)"
      ]
     },
     "execution_count": 7,
     "metadata": {},
     "output_type": "execute_result"
    }
   ],
   "source": [
    "m.shape"
   ]
  },
  {
   "cell_type": "code",
   "execution_count": 8,
   "metadata": {},
   "outputs": [
    {
     "data": {
      "text/plain": [
       "array([[0.62146259, 0.61270167, 0.57552063, 0.5074372 , 0.47852954,\n",
       "        0.51151005, 0.59721652, 0.67788036, 0.65578274, 0.59373501,\n",
       "        0.59811948, 0.57431291, 0.54205446, 0.48406234, 0.36280515,\n",
       "        0.30307051, 0.40962387, 0.61170933, 0.70676585, 0.72491966,\n",
       "        0.75546457],\n",
       "       [0.59247715, 0.55595083, 0.53768065, 0.48330176, 0.43032068,\n",
       "        0.44387329, 0.52709704, 0.58360622, 0.56776029, 0.56014841,\n",
       "        0.57998575, 0.51355284, 0.43153139, 0.39601759, 0.39090821,\n",
       "        0.39790777, 0.46374661, 0.55776915, 0.56428557, 0.55027808,\n",
       "        0.59106122],\n",
       "       [0.4753873 , 0.44448358, 0.4834725 , 0.47634521, 0.40897974,\n",
       "        0.39801055, 0.45557369, 0.51877449, 0.54661863, 0.58539421,\n",
       "        0.58434157, 0.45753562, 0.33034763, 0.31280682, 0.36507276,\n",
       "        0.38738907, 0.40596466, 0.42271947, 0.39990323, 0.40964342,\n",
       "        0.49094769],\n",
       "       [0.3779858 , 0.37267982, 0.4330578 , 0.46412317, 0.45640953,\n",
       "        0.46941895, 0.4845355 , 0.52887092, 0.56348546, 0.60413071,\n",
       "        0.57202614, 0.44782681, 0.33195533, 0.30986375, 0.34449588,\n",
       "        0.34613779, 0.35690156, 0.38585559, 0.40681435, 0.43241243,\n",
       "        0.48431274],\n",
       "       [0.41241447, 0.40748161, 0.42494428, 0.45106124, 0.52260599,\n",
       "        0.56829295, 0.54922528, 0.53594568, 0.53297354, 0.56299894,\n",
       "        0.53544771, 0.48063335, 0.43729984, 0.43102299, 0.44784204,\n",
       "        0.42781826, 0.44735123, 0.50629971, 0.54678734, 0.53224149,\n",
       "        0.49356905],\n",
       "       [0.4402197 , 0.45960891, 0.46401617, 0.47087831, 0.54495823,\n",
       "        0.56612983, 0.53408844, 0.51189717, 0.51966951, 0.55970191,\n",
       "        0.5576675 , 0.55551658, 0.55794359, 0.57500338, 0.58609302,\n",
       "        0.55232495, 0.57723735, 0.65155968, 0.65180262, 0.56110368,\n",
       "        0.46558359],\n",
       "       [0.46320796, 0.50305762, 0.51246868, 0.4833093 , 0.50185991,\n",
       "        0.47746685, 0.44123274, 0.45672098, 0.53665143, 0.60108076,\n",
       "        0.58413864, 0.54866582, 0.54115613, 0.58500258, 0.61604102,\n",
       "        0.6064295 , 0.65811853, 0.7348161 , 0.68252162, 0.52271431,\n",
       "        0.40179344],\n",
       "       [0.57708596, 0.55754872, 0.51616405, 0.43374044, 0.40629833,\n",
       "        0.39277575, 0.39913399, 0.43177467, 0.55124232, 0.64220668,\n",
       "        0.5733865 , 0.44332347, 0.41982694, 0.51259816, 0.57328268,\n",
       "        0.61124423, 0.70391896, 0.75083505, 0.65737623, 0.5036252 ,\n",
       "        0.42741934],\n",
       "       [0.61756163, 0.52754008, 0.44075291, 0.3337191 , 0.29111316,\n",
       "        0.32927303, 0.40486335, 0.42946756, 0.53648549, 0.65384039,\n",
       "        0.55701252, 0.35811717, 0.33566848, 0.46678223, 0.53228772,\n",
       "        0.58289814, 0.69555924, 0.71413081, 0.62313799, 0.54434153,\n",
       "        0.54072574]])"
      ]
     },
     "execution_count": 8,
     "metadata": {},
     "output_type": "execute_result"
    }
   ],
   "source": [
    "m[:,:,1,1]"
   ]
  },
  {
   "cell_type": "code",
   "execution_count": 9,
   "metadata": {},
   "outputs": [
    {
     "data": {
      "text/plain": [
       "array([[0.62146259, 0.61270167, 0.57552063, 0.5074372 , 0.47852954,\n",
       "        0.51151005, 0.59721652, 0.67788036, 0.65578274, 0.59373501,\n",
       "        0.59811948, 0.57431291, 0.54205446, 0.48406234, 0.36280515,\n",
       "        0.30307051, 0.40962387, 0.61170933, 0.70676585, 0.72491966,\n",
       "        0.75546457],\n",
       "       [0.59247715, 0.55595083, 0.53768065, 0.48330176, 0.43032068,\n",
       "        0.44387329, 0.52709704, 0.58360622, 0.56776029, 0.56014841,\n",
       "        0.57998575, 0.51355284, 0.43153139, 0.39601759, 0.39090821,\n",
       "        0.39790777, 0.46374661, 0.55776915, 0.56428557, 0.55027808,\n",
       "        0.59106122],\n",
       "       [0.4753873 , 0.44448358, 0.4834725 , 0.47634521, 0.40897974,\n",
       "        0.39801055, 0.45557369, 0.51877449, 0.54661863, 0.58539421,\n",
       "        0.58434157, 0.45753562, 0.33034763, 0.31280682, 0.36507276,\n",
       "        0.38738907, 0.40596466, 0.42271947, 0.39990323, 0.40964342,\n",
       "        0.49094769],\n",
       "       [0.3779858 , 0.37267982, 0.4330578 , 0.46412317, 0.45640953,\n",
       "        0.46941895, 0.4845355 , 0.52887092, 0.56348546, 0.60413071,\n",
       "        0.57202614, 0.44782681, 0.33195533, 0.30986375, 0.34449588,\n",
       "        0.34613779, 0.35690156, 0.38585559, 0.40681435, 0.43241243,\n",
       "        0.48431274],\n",
       "       [0.41241447, 0.40748161, 0.42494428, 0.45106124, 0.52260599,\n",
       "        0.56829295, 0.54922528, 0.53594568, 0.53297354, 0.56299894,\n",
       "        0.53544771, 0.48063335, 0.43729984, 0.43102299, 0.44784204,\n",
       "        0.42781826, 0.44735123, 0.50629971, 0.54678734, 0.53224149,\n",
       "        0.49356905],\n",
       "       [0.4402197 , 0.45960891, 0.46401617, 0.47087831, 0.54495823,\n",
       "        0.56612983, 0.53408844, 0.51189717, 0.51966951, 0.55970191,\n",
       "        0.5576675 , 0.55551658, 0.55794359, 0.57500338, 0.58609302,\n",
       "        0.55232495, 0.57723735, 0.65155968, 0.65180262, 0.56110368,\n",
       "        0.46558359],\n",
       "       [0.46320796, 0.50305762, 0.51246868, 0.4833093 , 0.50185991,\n",
       "        0.47746685, 0.44123274, 0.45672098, 0.53665143, 0.60108076,\n",
       "        0.58413864, 0.54866582, 0.54115613, 0.58500258, 0.61604102,\n",
       "        0.6064295 , 0.65811853, 0.7348161 , 0.68252162, 0.52271431,\n",
       "        0.40179344],\n",
       "       [0.57708596, 0.55754872, 0.51616405, 0.43374044, 0.40629833,\n",
       "        0.39277575, 0.39913399, 0.43177467, 0.55124232, 0.64220668,\n",
       "        0.5733865 , 0.44332347, 0.41982694, 0.51259816, 0.57328268,\n",
       "        0.61124423, 0.70391896, 0.75083505, 0.65737623, 0.5036252 ,\n",
       "        0.42741934],\n",
       "       [0.61756163, 0.52754008, 0.44075291, 0.3337191 , 0.29111316,\n",
       "        0.32927303, 0.40486335, 0.42946756, 0.53648549, 0.65384039,\n",
       "        0.55701252, 0.35811717, 0.33566848, 0.46678223, 0.53228772,\n",
       "        0.58289814, 0.69555924, 0.71413081, 0.62313799, 0.54434153,\n",
       "        0.54072574]])"
      ]
     },
     "execution_count": 9,
     "metadata": {},
     "output_type": "execute_result"
    }
   ],
   "source": [
    "frame"
   ]
  },
  {
   "cell_type": "code",
   "execution_count": 10,
   "metadata": {},
   "outputs": [
    {
     "data": {
      "text/plain": [
       "(9, 21)"
      ]
     },
     "execution_count": 10,
     "metadata": {},
     "output_type": "execute_result"
    }
   ],
   "source": [
    "frame.shape"
   ]
  },
  {
   "cell_type": "code",
   "execution_count": 11,
   "metadata": {},
   "outputs": [
    {
     "data": {
      "text/plain": [
       "3"
      ]
     },
     "execution_count": 11,
     "metadata": {},
     "output_type": "execute_result"
    }
   ],
   "source": [
    "np.gcd(frame.shape[0], frame.shape[1])"
   ]
  },
  {
   "cell_type": "code",
   "execution_count": 12,
   "metadata": {},
   "outputs": [],
   "source": [
    "from scipy.ndimage.filters import gaussian_filter"
   ]
  },
  {
   "cell_type": "code",
   "execution_count": 13,
   "metadata": {},
   "outputs": [],
   "source": [
    "m=np.random.rand(6,6)"
   ]
  },
  {
   "cell_type": "code",
   "execution_count": 14,
   "metadata": {},
   "outputs": [
    {
     "data": {
      "text/plain": [
       "<matplotlib.image.AxesImage at 0x7f9973f91fd0>"
      ]
     },
     "execution_count": 14,
     "metadata": {},
     "output_type": "execute_result"
    },
    {
     "data": {
      "image/png": "[encoded data removed]",
      "text/plain": [
       "<Figure size 432x288 with 1 Axes>"
      ]
     },
     "metadata": {
      "needs_background": "light"
     },
     "output_type": "display_data"
    }
   ],
   "source": [
    "plt.imshow(m, cmap='gray', vmin=0., vmax=1., interpolation='nearest', aspect='auto')"
   ]
  },
  {
   "cell_type": "code",
   "execution_count": 15,
   "metadata": {},
   "outputs": [
    {
     "name": "stdout",
     "output_type": "stream",
     "text": [
      "mean abs 0.07968267995123142\n"
     ]
    },
    {
     "data": {
      "text/plain": [
       "<matplotlib.image.AxesImage at 0x7f9973eafda0>"
      ]
     },
     "execution_count": 15,
     "metadata": {},
     "output_type": "execute_result"
    },
    {
     "data": {
      "image/png": "[encoded data removed]",
      "text/plain": [
       "<Figure size 432x288 with 1 Axes>"
      ]
     },
     "metadata": {
      "needs_background": "light"
     },
     "output_type": "display_data"
    }
   ],
   "source": [
    "m_gauss = gaussian_filter(m, sigma=0.5, order=0)\n",
    "print(f\"mean abs {np.mean(np.abs(m-m_gauss))}\")\n",
    "\n",
    "\n",
    "plt.imshow(m_gauss, cmap='gray', vmin=0., vmax=1., interpolation='nearest', aspect='auto')"
   ]
  },
  {
   "cell_type": "code",
   "execution_count": 16,
   "metadata": {},
   "outputs": [
    {
     "name": "stdout",
     "output_type": "stream",
     "text": [
      "Gaussian filter lasts for 0.0002684593200683594 seconds // mean abs 0.07968267995123142\n"
     ]
    },
    {
     "data": {
      "text/plain": [
       "<matplotlib.image.AxesImage at 0x7f997182b908>"
      ]
     },
     "execution_count": 16,
     "metadata": {},
     "output_type": "execute_result"
    },
    {
     "data": {
      "image/png": "[encoded data removed]",
      "text/plain": [
       "<Figure size 432x288 with 1 Axes>"
      ]
     },
     "metadata": {
      "needs_background": "light"
     },
     "output_type": "display_data"
    }
   ],
   "source": [
    "t=time.time()\n",
    "m_gauss = gaussian_filter(m, sigma=0.5)\n",
    "dt = time.time()-t\n",
    "\n",
    "print(f\"Gaussian filter lasts for {dt} seconds // mean abs {np.mean(np.abs(m-m_gauss))}\")\n",
    "\n",
    "plt.imshow(m_gauss, cmap='gray', vmin=0., vmax=1., interpolation='nearest', aspect='auto')"
   ]
  },
  {
   "cell_type": "code",
   "execution_count": 17,
   "metadata": {},
   "outputs": [],
   "source": [
    "def brute_gaussian(m, sigma: int = 2):\n",
    "    shape = m.shape\n",
    "    kernel = np.ones((sigma,sigma))\n",
    "    pad = int(kernel.shape[0] / 2)\n",
    "    \n",
    "    print(kernel)\n",
    "        \n",
    "    m_ext = np.pad(m, pad_width=kernel.shape)\n",
    "    m_res = np.copy(m)\n",
    "    \n",
    "    for i in range(shape[0]):        \n",
    "        for j in range(shape[1]):\n",
    "            ip = i+pad\n",
    "            jp = j+pad\n",
    "            \n",
    "            m_blur = m_ext[ip-pad:ip+pad, jp-pad:jp+pad]\n",
    "            \n",
    "            print(m_blur)\n",
    "            print(kernel)\n",
    "            \n",
    "            m_blur *= kernel\n",
    "            print(f\"{m_res[i,j]} ======> {np.mean(m_blur)}\")\n",
    "            m_res[i, j] = np.mean(m_blur)\n",
    "            \n",
    "            break\n",
    "        break\n",
    "            \n",
    "    return m_res\n"
   ]
  },
  {
   "cell_type": "code",
   "execution_count": 18,
   "metadata": {},
   "outputs": [
    {
     "name": "stdout",
     "output_type": "stream",
     "text": [
      "[[1. 1.]\n",
      " [1. 1.]]\n",
      "[[0. 0.]\n",
      " [0. 0.]]\n",
      "[[1. 1.]\n",
      " [1. 1.]]\n",
      "0.7867181562619641 ======> 0.0\n",
      "brute lasts for 0.0031642913818359375 seconds\n"
     ]
    },
    {
     "data": {
      "text/plain": [
       "<matplotlib.image.AxesImage at 0x7f997180aba8>"
      ]
     },
     "execution_count": 18,
     "metadata": {},
     "output_type": "execute_result"
    },
    {
     "data": {
      "image/png": "[encoded data removed]",
      "text/plain": [
       "<Figure size 432x288 with 1 Axes>"
      ]
     },
     "metadata": {
      "needs_background": "light"
     },
     "output_type": "display_data"
    }
   ],
   "source": [
    "t=time.time()\n",
    "brt = brute_gaussian(m)\n",
    "dt = time.time()-t\n",
    "\n",
    "print(f\"brute lasts for {dt} seconds\")\n",
    "\n",
    "plt.imshow(brt, cmap='gray', vmin=0., vmax=1., interpolation='nearest', aspect='auto')"
   ]
  },
  {
   "cell_type": "code",
   "execution_count": 19,
   "metadata": {},
   "outputs": [
    {
     "data": {
      "text/plain": [
       "0.02185328211838789"
      ]
     },
     "execution_count": 19,
     "metadata": {},
     "output_type": "execute_result"
    }
   ],
   "source": [
    "np.mean(np.abs(brt-m))"
   ]
  },
  {
   "cell_type": "markdown",
   "metadata": {},
   "source": [
    "# Trial of n-gaussian filter with sigma related to value\n",
    "Since it's difficult to formulate an all-in-one formulae,\n",
    "try to execute multiple gaussian filter on small matrix subset by applying a filter \n",
    "with a specific sigma depending on the area mean value"
   ]
  },
  {
   "cell_type": "code",
   "execution_count": 20,
   "metadata": {},
   "outputs": [],
   "source": [
    "origin_m = env.ground_truth[:,:,10]"
   ]
  },
  {
   "cell_type": "code",
   "execution_count": 21,
   "metadata": {},
   "outputs": [],
   "source": [
    "def sigma_v(v, gamma, mu=0.5, sigma=0.3):\n",
    "    return gamma * np.exp(-(v-mu)**2/(2*sigma**2))\n",
    "\n",
    "def n_gaussian_filter(m, ni, nj, sigma_v_func, gamma):\n",
    "    im = int(np.ceil(m.shape[0]/ni))\n",
    "    jm = int(np.ceil(m.shape[1]/nj))\n",
    "        \n",
    "    out_m = np.copy(m)\n",
    "    \n",
    "    for i in range(im):\n",
    "        for j in range(jm):\n",
    "            sub_m = out_m[i*ni:(i+1)*ni, j*nj:(j+1)*nj]\n",
    "            mean_sub_m = np.mean(sub_m)\n",
    "            \n",
    "            sub_m = gaussian_filter(sub_m, sigma=sigma_v_func(mean_sub_m, gamma))\n",
    "            \n",
    "            out_m[i*ni:(i+1)*ni, j*nj:(j+1)*nj] = sub_m\n",
    "            \n",
    "    return out_m"
   ]
  },
  {
   "cell_type": "code",
   "execution_count": 22,
   "metadata": {},
   "outputs": [
    {
     "name": "stdout",
     "output_type": "stream",
     "text": [
      "Duration n-gaussian-filter method = 0.009173154830932617 seconds\n"
     ]
    },
    {
     "data": {
      "text/plain": [
       "<matplotlib.image.AxesImage at 0x7f997176f8d0>"
      ]
     },
     "execution_count": 22,
     "metadata": {},
     "output_type": "execute_result"
    },
    {
     "data": {
      "image/png": "[encoded data removed]",
      "text/plain": [
       "<Figure size 432x288 with 1 Axes>"
      ]
     },
     "metadata": {
      "needs_background": "light"
     },
     "output_type": "display_data"
    }
   ],
   "source": [
    "t=time.time()\n",
    "m_ngauss = n_gaussian_filter(origin_m, ni=2, nj=2, sigma_v_func=sigma_v, gamma=2.0)\n",
    "dt = time.time() - t\n",
    "\n",
    "print(f\"Duration n-gaussian-filter method = {dt} seconds\")\n",
    "plt.imshow(m_ngauss, cmap='gray', vmin=0., vmax=1., interpolation='nearest', aspect='auto')"
   ]
  },
  {
   "cell_type": "code",
   "execution_count": 23,
   "metadata": {},
   "outputs": [
    {
     "data": {
      "text/plain": [
       "<matplotlib.image.AxesImage at 0x7f9971750588>"
      ]
     },
     "execution_count": 23,
     "metadata": {},
     "output_type": "execute_result"
    },
    {
     "data": {
      "image/png": "[encoded data removed]",
      "text/plain": [
       "<Figure size 432x288 with 1 Axes>"
      ]
     },
     "metadata": {
      "needs_background": "light"
     },
     "output_type": "display_data"
    }
   ],
   "source": [
    "plt.imshow(origin_m, cmap='gray', vmin=0., vmax=1., interpolation='nearest', aspect='auto')"
   ]
  },
  {
   "cell_type": "code",
   "execution_count": null,
   "metadata": {},
   "outputs": [],
   "source": []
  },
  {
   "cell_type": "code",
   "execution_count": 39,
   "metadata": {},
   "outputs": [
    {
     "data": {
      "image/png": "[encoded data removed]",
      "text/plain": [
       "<Figure size 432x288 with 1 Axes>"
      ]
     },
     "metadata": {
      "needs_background": "light"
     },
     "output_type": "display_data"
    }
   ],
   "source": [
    "x=np.arange(start=0, stop=1.1, step=0.1)\n",
    "mu=0.5\n",
    "sigma=0.5\n",
    "gamma=1.0\n",
    "plt.plot(x, gamma * np.exp(-(x-mu)**2/(2*sigma**2)))\n",
    "plt.xticks(x)\n",
    "plt.show()"
   ]
  },
  {
   "cell_type": "code",
   "execution_count": null,
   "metadata": {},
   "outputs": [],
   "source": []
  },
  {
   "cell_type": "code",
   "execution_count": 25,
   "metadata": {},
   "outputs": [
    {
     "data": {
      "text/plain": [
       "0.0"
      ]
     },
     "execution_count": 25,
     "metadata": {},
     "output_type": "execute_result"
    }
   ],
   "source": [
    "np.sqrt(0)"
   ]
  },
  {
   "cell_type": "code",
   "execution_count": null,
   "metadata": {},
   "outputs": [],
   "source": []
  }
 ],
 "metadata": {
  "kernelspec": {
   "display_name": "Python 3",
   "language": "python",
   "name": "python3"
  },
  "language_info": {
   "codemirror_mode": {
    "name": "ipython",
    "version": 3
   },
   "file_extension": ".py",
   "mimetype": "text/x-python",
   "name": "python",
   "nbconvert_exporter": "python",
   "pygments_lexer": "ipython3",
   "version": "3.6.8"
  }
 },
 "nbformat": 4,
 "nbformat_minor": 4
}
