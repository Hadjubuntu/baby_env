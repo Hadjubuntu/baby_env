{
 "cells": [
  {
   "cell_type": "markdown",
   "metadata": {},
   "source": [
    "# Analyze BabyEnv performance"
   ]
  },
  {
   "cell_type": "code",
   "execution_count": 1,
   "metadata": {},
   "outputs": [],
   "source": [
    "import gym\n",
    "import json\n",
    "import numpy as np\n",
    "import matplotlib.pyplot as plt\n",
    "from PIL import Image\n",
    "import time\n",
    "\n",
    "import baby.envs\n",
    "from baby.envs.baby_env import default_conf"
   ]
  },
  {
   "cell_type": "code",
   "execution_count": 2,
   "metadata": {},
   "outputs": [],
   "source": [
    "# Create env\n",
    "env = gym.make('baby-v0')"
   ]
  },
  {
   "cell_type": "code",
   "execution_count": 3,
   "metadata": {},
   "outputs": [],
   "source": [
    "n_measure=100"
   ]
  },
  {
   "cell_type": "code",
   "execution_count": 4,
   "metadata": {},
   "outputs": [
    {
     "name": "stdout",
     "output_type": "stream",
     "text": [
      "Reset duration 0.29923344135284424\n"
     ]
    }
   ],
   "source": [
    "t=time.time()\n",
    "for _ in range(n_measure):\n",
    "    env.reset()\n",
    "\n",
    "dt = time.time() - t\n",
    "\n",
    "print(f\"Reset duration {dt/n_measure}\")"
   ]
  },
  {
   "cell_type": "code",
   "execution_count": 5,
   "metadata": {},
   "outputs": [
    {
     "name": "stdout",
     "output_type": "stream",
     "text": [
      "Step duration 0.004349322319030762\n"
     ]
    }
   ],
   "source": [
    "t=time.time()\n",
    "for _ in range(n_measure):\n",
    "    env.step([0])\n",
    "dt_step = time.time() - t\n",
    "\n",
    "print(f\"Step duration {dt_step/n_measure}\")"
   ]
  },
  {
   "cell_type": "code",
   "execution_count": 6,
   "metadata": {},
   "outputs": [
    {
     "name": "stdout",
     "output_type": "stream",
     "text": [
      "So it requires 1.208145088619656 hours to make 1M steps\n"
     ]
    }
   ],
   "source": [
    "print(f\"So it requires {dt_step/n_measure*1e6/3600} hours to make 1M steps\")"
   ]
  },
  {
   "cell_type": "code",
   "execution_count": 7,
   "metadata": {},
   "outputs": [
    {
     "name": "stdout",
     "output_type": "stream",
     "text": [
      "Predict function duration 0.004241015911102295\n",
      "Predict takes 97.50980957528567% of step function duration\n"
     ]
    }
   ],
   "source": [
    "t=time.time()\n",
    "for _ in range(n_measure):\n",
    "    env.predict(t=0)\n",
    "dt = time.time() - t\n",
    "\n",
    "print(f\"Predict function duration {dt/n_measure}\")\n",
    "print(f\"Predict takes {dt/dt_step*100}% of step function duration\")"
   ]
  },
  {
   "cell_type": "code",
   "execution_count": null,
   "metadata": {},
   "outputs": [],
   "source": []
  },
  {
   "cell_type": "code",
   "execution_count": 8,
   "metadata": {},
   "outputs": [],
   "source": [
    "from scipy.ndimage.filters import uniform_filter"
   ]
  },
  {
   "cell_type": "code",
   "execution_count": 9,
   "metadata": {},
   "outputs": [
    {
     "name": "stdout",
     "output_type": "stream",
     "text": [
      "20 calls to uniform filter call lasts for 0.0013467144966125488\n",
      "Those calls take 30.963777752683587% of step function duration\n"
     ]
    }
   ],
   "source": [
    "t=time.time()\n",
    "for _ in range(n_measure):\n",
    "    for _ in range(env.conf['n_frame']):\n",
    "        uniform_filter(env.ground_truth[:,:,0])\n",
    "\n",
    "dt = time.time() - t\n",
    "print(f\"{env.conf['n_frame']} calls to uniform filter call lasts for {dt/n_measure}\")\n",
    "print(f\"Those calls take {dt/dt_step*100}% of step function duration\")"
   ]
  },
  {
   "cell_type": "code",
   "execution_count": 10,
   "metadata": {},
   "outputs": [
    {
     "name": "stdout",
     "output_type": "stream",
     "text": [
      "20 calls to np.exp call lasts for 0.00022372961044311523\n",
      "Those calls take 5.144010814378388% of step function duration\n"
     ]
    }
   ],
   "source": [
    "t=time.time()\n",
    "for _ in range(n_measure):\n",
    "    for _ in range(env.conf['n_frame']):\n",
    "        np.exp(env.ground_truth[:,:,0])\n",
    "\n",
    "dt = time.time() - t\n",
    "print(f\"{env.conf['n_frame']} calls to np.exp call lasts for {dt/n_measure}\")\n",
    "print(f\"Those calls take {dt/dt_step*100}% of step function duration\")"
   ]
  },
  {
   "cell_type": "code",
   "execution_count": 11,
   "metadata": {},
   "outputs": [
    {
     "name": "stdout",
     "output_type": "stream",
     "text": [
      "20 calls to np.clip call lasts for 0.000738217830657959\n",
      "Those calls take 16.973169071140937% of step function duration\n"
     ]
    }
   ],
   "source": [
    "t=time.time()\n",
    "for _ in range(n_measure):\n",
    "    for _ in range(env.conf['n_frame']):\n",
    "        np.clip(env.ground_truth[:,:,0], 0, 1)\n",
    "\n",
    "dt = time.time() - t\n",
    "print(f\"{env.conf['n_frame']} calls to np.clip call lasts for {dt/n_measure}\")\n",
    "print(f\"Those calls take {dt/dt_step*100}% of step function duration\")"
   ]
  },
  {
   "cell_type": "code",
   "execution_count": 13,
   "metadata": {},
   "outputs": [
    {
     "name": "stdout",
     "output_type": "stream",
     "text": [
      "20 calls to np.copy call lasts for 0.00010972738265991211\n",
      "Those calls take 2.5228616002955757% of step function duration\n"
     ]
    }
   ],
   "source": [
    "t=time.time()\n",
    "for _ in range(n_measure):\n",
    "    for _ in range(env.conf['n_frame']):\n",
    "        np.copy(env.ground_truth[:,:,0])\n",
    "\n",
    "dt = time.time() - t\n",
    "print(f\"{env.conf['n_frame']} calls to np.copy call lasts for {dt/n_measure}\")\n",
    "print(f\"Those calls take {dt/dt_step*100}% of step function duration\")"
   ]
  },
  {
   "cell_type": "code",
   "execution_count": 19,
   "metadata": {},
   "outputs": [
    {
     "name": "stdout",
     "output_type": "stream",
     "text": [
      "Multiple 0.08451342582702637s // Single 0.005934000015258789s // 14.24223552573426 slower\n"
     ]
    }
   ],
   "source": [
    "# Single clip vs multiple clip\n",
    "t = time.time()\n",
    "for _ in range(n_measure):\n",
    "    for i in range(env.conf['n_frame']):\n",
    "        np.clip(env.ground_truth[:,:,i], 0, 1)\n",
    "dt1 = time.time()-t\n",
    "\n",
    "\n",
    "t = time.time()\n",
    "for _ in range(n_measure):\n",
    "    np.clip(env.ground_truth[:,:,0:20], 0, 1)\n",
    "dt2 = time.time()-t\n",
    "\n",
    "print(f\"Multiple {dt1}s // Single {dt2}s // {dt1/dt2} slower\")"
   ]
  },
  {
   "cell_type": "code",
   "execution_count": null,
   "metadata": {},
   "outputs": [],
   "source": []
  }
 ],
 "metadata": {
  "kernelspec": {
   "display_name": "Python 3",
   "language": "python",
   "name": "python3"
  },
  "language_info": {
   "codemirror_mode": {
    "name": "ipython",
    "version": 3
   },
   "file_extension": ".py",
   "mimetype": "text/x-python",
   "name": "python",
   "nbconvert_exporter": "python",
   "pygments_lexer": "ipython3",
   "version": "3.6.3"
  }
 },
 "nbformat": 4,
 "nbformat_minor": 4
}
