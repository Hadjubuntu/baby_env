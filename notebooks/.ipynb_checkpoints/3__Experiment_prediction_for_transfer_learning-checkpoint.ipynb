{
 "cells": [
  {
   "cell_type": "markdown",
   "metadata": {},
   "source": [
    "# Experiment prediction for transfer learning"
   ]
  },
  {
   "cell_type": "code",
   "execution_count": 1,
   "metadata": {},
   "outputs": [],
   "source": [
    "import gym\n",
    "import json\n",
    "import numpy as np\n",
    "import matplotlib.pyplot as plt\n",
    "from PIL import Image\n",
    "import time\n",
    "\n",
    "import baby.envs\n",
    "from baby.envs.baby_env import default_conf"
   ]
  },
  {
   "cell_type": "code",
   "execution_count": 2,
   "metadata": {},
   "outputs": [],
   "source": [
    "# Create env\n",
    "env = gym.make('baby-v0')"
   ]
  },
  {
   "cell_type": "code",
   "execution_count": 3,
   "metadata": {},
   "outputs": [
    {
     "data": {
      "text/plain": [
       "array([[[0.59468355, 0.4969422 , 0.53692602, ..., 0.54657681,\n",
       "         0.52934013, 1.        ],\n",
       "        [0.57865095, 0.48636599, 0.53797637, ..., 0.54657732,\n",
       "         0.52934398, 1.        ],\n",
       "        [0.54721443, 0.4731913 , 0.54051966, ..., 0.54657738,\n",
       "         0.52935163, 1.        ],\n",
       "        ...,\n",
       "        [0.62167553, 0.55343545, 0.43089995, ..., 0.5465526 ,\n",
       "         0.52971164, 1.        ],\n",
       "        [0.6574913 , 0.60821489, 0.44805175, ..., 0.54655137,\n",
       "         0.52971954, 1.        ],\n",
       "        [0.67610085, 0.63857556, 0.45774276, ..., 0.54654953,\n",
       "         0.52972238, 1.        ]],\n",
       "\n",
       "       [[0.55073352, 0.4921475 , 0.5331905 , ..., 0.54657657,\n",
       "         0.52934074, 1.        ],\n",
       "        [0.53827439, 0.48388195, 0.53429066, ..., 0.54657708,\n",
       "         0.5293446 , 1.        ],\n",
       "        [0.51747824, 0.47415207, 0.53689505, ..., 0.54657714,\n",
       "         0.52935224, 1.        ],\n",
       "        ...,\n",
       "        [0.54756423, 0.53526119, 0.43492259, ..., 0.54655237,\n",
       "         0.52971223, 1.        ],\n",
       "        [0.57256557, 0.58394906, 0.45017721, ..., 0.54655115,\n",
       "         0.52972013, 1.        ],\n",
       "        [0.59175389, 0.61105335, 0.45879117, ..., 0.54654931,\n",
       "         0.52972297, 1.        ]],\n",
       "\n",
       "       [[0.47832489, 0.48526346, 0.52627607, ..., 0.54657607,\n",
       "         0.52934106, 1.        ],\n",
       "        [0.47540262, 0.48145019, 0.52738407, ..., 0.54657658,\n",
       "         0.52934491, 1.        ],\n",
       "        [0.47494595, 0.47840077, 0.52994496, ..., 0.54657665,\n",
       "         0.52935255, 1.        ],\n",
       "        ...,\n",
       "        [0.46874137, 0.51169392, 0.44415875, ..., 0.5465519 ,\n",
       "         0.52971257, 1.        ],\n",
       "        [0.4884287 , 0.55021228, 0.4560997 , ..., 0.54655068,\n",
       "         0.52972047, 1.        ],\n",
       "        [0.5091712 , 0.57173262, 0.46282347, ..., 0.54654884,\n",
       "         0.5297233 , 1.        ]],\n",
       "\n",
       "       ...,\n",
       "\n",
       "       [[0.49408445, 0.45988717, 0.4882846 , ..., 0.54657427,\n",
       "         0.52933952, 1.        ],\n",
       "        [0.493712  , 0.46791953, 0.48662515, ..., 0.54657479,\n",
       "         0.52934338, 1.        ],\n",
       "        [0.48523341, 0.47982345, 0.48390728, ..., 0.54657485,\n",
       "         0.52935102, 1.        ],\n",
       "        ...,\n",
       "        [0.62298822, 0.55918353, 0.53899014, ..., 0.54655031,\n",
       "         0.52971114, 1.        ],\n",
       "        [0.54252109, 0.55990049, 0.53829126, ..., 0.54654909,\n",
       "         0.52971903, 1.        ],\n",
       "        [0.47817079, 0.55887181, 0.53756784, ..., 0.54654726,\n",
       "         0.52972187, 1.        ]],\n",
       "\n",
       "       [[0.54193512, 0.45417064, 0.48187032, ..., 0.54657399,\n",
       "         0.52933901, 1.        ],\n",
       "        [0.52034243, 0.45921716, 0.47912972, ..., 0.5465745 ,\n",
       "         0.52934287, 1.        ],\n",
       "        [0.48071797, 0.46534884, 0.4744447 , ..., 0.54657457,\n",
       "         0.52935051, 1.        ],\n",
       "        ...,\n",
       "        [0.62987315, 0.58611773, 0.56255187, ..., 0.54655007,\n",
       "         0.52971064, 1.        ],\n",
       "        [0.54693312, 0.58436976, 0.5607913 , ..., 0.54654885,\n",
       "         0.52971854, 1.        ],\n",
       "        [0.48945474, 0.5819359 , 0.55938148, ..., 0.54654702,\n",
       "         0.52972138, 1.        ]],\n",
       "\n",
       "       [[0.56910327, 0.45094165, 0.47846712, ..., 0.54657383,\n",
       "         0.52933847, 1.        ],\n",
       "        [0.52680703, 0.45352818, 0.4750667 , ..., 0.54657434,\n",
       "         0.52934232, 1.        ],\n",
       "        [0.46081274, 0.4552049 , 0.46918927, ..., 0.54657441,\n",
       "         0.52934997, 1.        ],\n",
       "        ...,\n",
       "        [0.62767371, 0.60154805, 0.57593314, ..., 0.54654994,\n",
       "         0.5297101 , 1.        ],\n",
       "        [0.55837724, 0.59929857, 0.57374665, ..., 0.54654872,\n",
       "         0.529718  , 1.        ],\n",
       "        [0.51744133, 0.59667687, 0.57204629, ..., 0.54654689,\n",
       "         0.52972084, 1.        ]]])"
      ]
     },
     "execution_count": 3,
     "metadata": {},
     "output_type": "execute_result"
    }
   ],
   "source": [
    "env.reset()"
   ]
  },
  {
   "cell_type": "code",
   "execution_count": 4,
   "metadata": {},
   "outputs": [
    {
     "data": {
      "text/plain": [
       "(9, 21, 1000)"
      ]
     },
     "execution_count": 4,
     "metadata": {},
     "output_type": "execute_result"
    }
   ],
   "source": [
    "ground_truth = env.ground_truth\n",
    "ground_truth.shape"
   ]
  },
  {
   "cell_type": "code",
   "execution_count": 5,
   "metadata": {},
   "outputs": [],
   "source": [
    "frame = ground_truth[:,:,0]"
   ]
  },
  {
   "cell_type": "code",
   "execution_count": 6,
   "metadata": {},
   "outputs": [],
   "source": [
    "small_f = np.identity(3)\n",
    "small_f[0]\n",
    "\n",
    "m = np.einsum('ij,kl->ijkl',frame,small_f)"
   ]
  },
  {
   "cell_type": "code",
   "execution_count": 7,
   "metadata": {},
   "outputs": [
    {
     "data": {
      "text/plain": [
       "(9, 21, 3, 3)"
      ]
     },
     "execution_count": 7,
     "metadata": {},
     "output_type": "execute_result"
    }
   ],
   "source": [
    "m.shape"
   ]
  },
  {
   "cell_type": "code",
   "execution_count": 8,
   "metadata": {},
   "outputs": [
    {
     "data": {
      "text/plain": [
       "array([[0.62146259, 0.61270167, 0.57552063, 0.5074372 , 0.47852954,\n",
       "        0.51151005, 0.59721652, 0.67788036, 0.65578274, 0.59373501,\n",
       "        0.59811948, 0.57431291, 0.54205446, 0.48406234, 0.36280515,\n",
       "        0.30307051, 0.40962387, 0.61170933, 0.70676585, 0.72491966,\n",
       "        0.75546457],\n",
       "       [0.59247715, 0.55595083, 0.53768065, 0.48330176, 0.43032068,\n",
       "        0.44387329, 0.52709704, 0.58360622, 0.56776029, 0.56014841,\n",
       "        0.57998575, 0.51355284, 0.43153139, 0.39601759, 0.39090821,\n",
       "        0.39790777, 0.46374661, 0.55776915, 0.56428557, 0.55027808,\n",
       "        0.59106122],\n",
       "       [0.4753873 , 0.44448358, 0.4834725 , 0.47634521, 0.40897974,\n",
       "        0.39801055, 0.45557369, 0.51877449, 0.54661863, 0.58539421,\n",
       "        0.58434157, 0.45753562, 0.33034763, 0.31280682, 0.36507276,\n",
       "        0.38738907, 0.40596466, 0.42271947, 0.39990323, 0.40964342,\n",
       "        0.49094769],\n",
       "       [0.3779858 , 0.37267982, 0.4330578 , 0.46412317, 0.45640953,\n",
       "        0.46941895, 0.4845355 , 0.52887092, 0.56348546, 0.60413071,\n",
       "        0.57202614, 0.44782681, 0.33195533, 0.30986375, 0.34449588,\n",
       "        0.34613779, 0.35690156, 0.38585559, 0.40681435, 0.43241243,\n",
       "        0.48431274],\n",
       "       [0.41241447, 0.40748161, 0.42494428, 0.45106124, 0.52260599,\n",
       "        0.56829295, 0.54922528, 0.53594568, 0.53297354, 0.56299894,\n",
       "        0.53544771, 0.48063335, 0.43729984, 0.43102299, 0.44784204,\n",
       "        0.42781826, 0.44735123, 0.50629971, 0.54678734, 0.53224149,\n",
       "        0.49356905],\n",
       "       [0.4402197 , 0.45960891, 0.46401617, 0.47087831, 0.54495823,\n",
       "        0.56612983, 0.53408844, 0.51189717, 0.51966951, 0.55970191,\n",
       "        0.5576675 , 0.55551658, 0.55794359, 0.57500338, 0.58609302,\n",
       "        0.55232495, 0.57723735, 0.65155968, 0.65180262, 0.56110368,\n",
       "        0.46558359],\n",
       "       [0.46320796, 0.50305762, 0.51246868, 0.4833093 , 0.50185991,\n",
       "        0.47746685, 0.44123274, 0.45672098, 0.53665143, 0.60108076,\n",
       "        0.58413864, 0.54866582, 0.54115613, 0.58500258, 0.61604102,\n",
       "        0.6064295 , 0.65811853, 0.7348161 , 0.68252162, 0.52271431,\n",
       "        0.40179344],\n",
       "       [0.57708596, 0.55754872, 0.51616405, 0.43374044, 0.40629833,\n",
       "        0.39277575, 0.39913399, 0.43177467, 0.55124232, 0.64220668,\n",
       "        0.5733865 , 0.44332347, 0.41982694, 0.51259816, 0.57328268,\n",
       "        0.61124423, 0.70391896, 0.75083505, 0.65737623, 0.5036252 ,\n",
       "        0.42741934],\n",
       "       [0.61756163, 0.52754008, 0.44075291, 0.3337191 , 0.29111316,\n",
       "        0.32927303, 0.40486335, 0.42946756, 0.53648549, 0.65384039,\n",
       "        0.55701252, 0.35811717, 0.33566848, 0.46678223, 0.53228772,\n",
       "        0.58289814, 0.69555924, 0.71413081, 0.62313799, 0.54434153,\n",
       "        0.54072574]])"
      ]
     },
     "execution_count": 8,
     "metadata": {},
     "output_type": "execute_result"
    }
   ],
   "source": [
    "m[:,:,1,1]"
   ]
  },
  {
   "cell_type": "code",
   "execution_count": 9,
   "metadata": {},
   "outputs": [
    {
     "data": {
      "text/plain": [
       "array([[0.62146259, 0.61270167, 0.57552063, 0.5074372 , 0.47852954,\n",
       "        0.51151005, 0.59721652, 0.67788036, 0.65578274, 0.59373501,\n",
       "        0.59811948, 0.57431291, 0.54205446, 0.48406234, 0.36280515,\n",
       "        0.30307051, 0.40962387, 0.61170933, 0.70676585, 0.72491966,\n",
       "        0.75546457],\n",
       "       [0.59247715, 0.55595083, 0.53768065, 0.48330176, 0.43032068,\n",
       "        0.44387329, 0.52709704, 0.58360622, 0.56776029, 0.56014841,\n",
       "        0.57998575, 0.51355284, 0.43153139, 0.39601759, 0.39090821,\n",
       "        0.39790777, 0.46374661, 0.55776915, 0.56428557, 0.55027808,\n",
       "        0.59106122],\n",
       "       [0.4753873 , 0.44448358, 0.4834725 , 0.47634521, 0.40897974,\n",
       "        0.39801055, 0.45557369, 0.51877449, 0.54661863, 0.58539421,\n",
       "        0.58434157, 0.45753562, 0.33034763, 0.31280682, 0.36507276,\n",
       "        0.38738907, 0.40596466, 0.42271947, 0.39990323, 0.40964342,\n",
       "        0.49094769],\n",
       "       [0.3779858 , 0.37267982, 0.4330578 , 0.46412317, 0.45640953,\n",
       "        0.46941895, 0.4845355 , 0.52887092, 0.56348546, 0.60413071,\n",
       "        0.57202614, 0.44782681, 0.33195533, 0.30986375, 0.34449588,\n",
       "        0.34613779, 0.35690156, 0.38585559, 0.40681435, 0.43241243,\n",
       "        0.48431274],\n",
       "       [0.41241447, 0.40748161, 0.42494428, 0.45106124, 0.52260599,\n",
       "        0.56829295, 0.54922528, 0.53594568, 0.53297354, 0.56299894,\n",
       "        0.53544771, 0.48063335, 0.43729984, 0.43102299, 0.44784204,\n",
       "        0.42781826, 0.44735123, 0.50629971, 0.54678734, 0.53224149,\n",
       "        0.49356905],\n",
       "       [0.4402197 , 0.45960891, 0.46401617, 0.47087831, 0.54495823,\n",
       "        0.56612983, 0.53408844, 0.51189717, 0.51966951, 0.55970191,\n",
       "        0.5576675 , 0.55551658, 0.55794359, 0.57500338, 0.58609302,\n",
       "        0.55232495, 0.57723735, 0.65155968, 0.65180262, 0.56110368,\n",
       "        0.46558359],\n",
       "       [0.46320796, 0.50305762, 0.51246868, 0.4833093 , 0.50185991,\n",
       "        0.47746685, 0.44123274, 0.45672098, 0.53665143, 0.60108076,\n",
       "        0.58413864, 0.54866582, 0.54115613, 0.58500258, 0.61604102,\n",
       "        0.6064295 , 0.65811853, 0.7348161 , 0.68252162, 0.52271431,\n",
       "        0.40179344],\n",
       "       [0.57708596, 0.55754872, 0.51616405, 0.43374044, 0.40629833,\n",
       "        0.39277575, 0.39913399, 0.43177467, 0.55124232, 0.64220668,\n",
       "        0.5733865 , 0.44332347, 0.41982694, 0.51259816, 0.57328268,\n",
       "        0.61124423, 0.70391896, 0.75083505, 0.65737623, 0.5036252 ,\n",
       "        0.42741934],\n",
       "       [0.61756163, 0.52754008, 0.44075291, 0.3337191 , 0.29111316,\n",
       "        0.32927303, 0.40486335, 0.42946756, 0.53648549, 0.65384039,\n",
       "        0.55701252, 0.35811717, 0.33566848, 0.46678223, 0.53228772,\n",
       "        0.58289814, 0.69555924, 0.71413081, 0.62313799, 0.54434153,\n",
       "        0.54072574]])"
      ]
     },
     "execution_count": 9,
     "metadata": {},
     "output_type": "execute_result"
    }
   ],
   "source": [
    "frame"
   ]
  },
  {
   "cell_type": "code",
   "execution_count": 10,
   "metadata": {},
   "outputs": [
    {
     "data": {
      "text/plain": [
       "(9, 21)"
      ]
     },
     "execution_count": 10,
     "metadata": {},
     "output_type": "execute_result"
    }
   ],
   "source": [
    "frame.shape"
   ]
  },
  {
   "cell_type": "code",
   "execution_count": 11,
   "metadata": {},
   "outputs": [
    {
     "data": {
      "text/plain": [
       "3"
      ]
     },
     "execution_count": 11,
     "metadata": {},
     "output_type": "execute_result"
    }
   ],
   "source": [
    "np.gcd(frame.shape[0], frame.shape[1])"
   ]
  },
  {
   "cell_type": "code",
   "execution_count": 12,
   "metadata": {},
   "outputs": [],
   "source": [
    "from scipy.ndimage.filters import gaussian_filter"
   ]
  },
  {
   "cell_type": "code",
   "execution_count": 13,
   "metadata": {},
   "outputs": [],
   "source": [
    "m=np.random.rand(6,6)"
   ]
  },
  {
   "cell_type": "code",
   "execution_count": 14,
   "metadata": {},
   "outputs": [
    {
     "data": {
      "text/plain": [
       "<matplotlib.image.AxesImage at 0x7fb30d6534e0>"
      ]
     },
     "execution_count": 14,
     "metadata": {},
     "output_type": "execute_result"
    },
    {
     "data": {
      "image/png": "[encoded data removed]",
      "text/plain": [
       "<Figure size 432x288 with 1 Axes>"
      ]
     },
     "metadata": {
      "needs_background": "light"
     },
     "output_type": "display_data"
    }
   ],
   "source": [
    "plt.imshow(m, cmap='gray', vmin=0., vmax=1., interpolation='nearest', aspect='auto')"
   ]
  },
  {
   "cell_type": "code",
   "execution_count": 15,
   "metadata": {},
   "outputs": [
    {
     "name": "stdout",
     "output_type": "stream",
     "text": [
      "mean abs 0.23488795011182426\n"
     ]
    },
    {
     "data": {
      "text/plain": [
       "<matplotlib.image.AxesImage at 0x7fb30d1241d0>"
      ]
     },
     "execution_count": 15,
     "metadata": {},
     "output_type": "execute_result"
    },
    {
     "data": {
      "image/png": "[encoded data removed]",
      "text/plain": [
       "<Figure size 432x288 with 1 Axes>"
      ]
     },
     "metadata": {
      "needs_background": "light"
     },
     "output_type": "display_data"
    }
   ],
   "source": [
    "m_gauss = gaussian_filter(m, sigma=1.0, order=0)\n",
    "print(f\"mean abs {np.mean(np.abs(m-m_gauss))}\")\n",
    "\n",
    "\n",
    "plt.imshow(m_gauss, cmap='gray', vmin=0., vmax=1., interpolation='nearest', aspect='auto')"
   ]
  },
  {
   "cell_type": "code",
   "execution_count": 16,
   "metadata": {},
   "outputs": [
    {
     "name": "stdout",
     "output_type": "stream",
     "text": [
      "Gaussian filter lasts for 0.0003056526184082031 seconds // mean abs 0.10291719491735979\n"
     ]
    },
    {
     "data": {
      "text/plain": [
       "<matplotlib.image.AxesImage at 0x7fb30d102b38>"
      ]
     },
     "execution_count": 16,
     "metadata": {},
     "output_type": "execute_result"
    },
    {
     "data": {
      "image/png": "[encoded data removed]",
      "text/plain": [
       "<Figure size 432x288 with 1 Axes>"
      ]
     },
     "metadata": {
      "needs_background": "light"
     },
     "output_type": "display_data"
    }
   ],
   "source": [
    "t=time.time()\n",
    "m_gauss = gaussian_filter(m, sigma=0.5)\n",
    "dt = time.time()-t\n",
    "\n",
    "print(f\"Gaussian filter lasts for {dt} seconds // mean abs {np.mean(np.abs(m-m_gauss))}\")\n",
    "\n",
    "plt.imshow(m_gauss, cmap='gray', vmin=0., vmax=1., interpolation='nearest', aspect='auto')"
   ]
  },
  {
   "cell_type": "code",
   "execution_count": 20,
   "metadata": {},
   "outputs": [],
   "source": [
    "def brute_gaussian(m, sigma: int = 2):\n",
    "    shape = m.shape\n",
    "    kernel = np.ones((sigma,sigma))\n",
    "    pad = int(kernel.shape[0] / 2)\n",
    "    \n",
    "    print(kernel)\n",
    "        \n",
    "    m_ext = np.pad(m, pad_width=kernel.shape)\n",
    "    m_res = np.copy(m)\n",
    "    \n",
    "    for i in range(shape[0]):        \n",
    "        for j in range(shape[1]):\n",
    "            ip = i+pad\n",
    "            jp = j+pad\n",
    "            \n",
    "            m_blur = m_ext[ip-pad:ip+pad, jp-pad:jp+pad]\n",
    "            \n",
    "            print(m_blur)\n",
    "            print(kernel)\n",
    "            \n",
    "            m_blur *= kernel\n",
    "            print(f\"{m_res[i,j]} ======> {np.mean(m_blur)}\")\n",
    "            m_res[i, j] = np.mean(m_blur)\n",
    "            \n",
    "            break\n",
    "        break\n",
    "            \n",
    "    return m_res\n"
   ]
  },
  {
   "cell_type": "code",
   "execution_count": 21,
   "metadata": {},
   "outputs": [
    {
     "name": "stdout",
     "output_type": "stream",
     "text": [
      "[[1. 1.]\n",
      " [1. 1.]]\n",
      "[[0. 0.]\n",
      " [0. 0.]]\n",
      "[[1. 1.]\n",
      " [1. 1.]]\n",
      "0.9529376107291725 ======> 0.0\n",
      "brute lasts for 0.0013191699981689453 seconds\n"
     ]
    },
    {
     "data": {
      "text/plain": [
       "<matplotlib.image.AxesImage at 0x7fb30cff20b8>"
      ]
     },
     "execution_count": 21,
     "metadata": {},
     "output_type": "execute_result"
    },
    {
     "data": {
      "image/png": "[encoded data removed]",
      "text/plain": [
       "<Figure size 432x288 with 1 Axes>"
      ]
     },
     "metadata": {
      "needs_background": "light"
     },
     "output_type": "display_data"
    }
   ],
   "source": [
    "t=time.time()\n",
    "brt = brute_gaussian(m)\n",
    "dt = time.time()-t\n",
    "\n",
    "print(f\"brute lasts for {dt} seconds\")\n",
    "\n",
    "plt.imshow(brt, cmap='gray', vmin=0., vmax=1., interpolation='nearest', aspect='auto')"
   ]
  },
  {
   "cell_type": "code",
   "execution_count": 22,
   "metadata": {},
   "outputs": [
    {
     "data": {
      "text/plain": [
       "0.026470489186921457"
      ]
     },
     "execution_count": 22,
     "metadata": {},
     "output_type": "execute_result"
    }
   ],
   "source": [
    "np.mean(np.abs(brt-m))"
   ]
  },
  {
   "cell_type": "markdown",
   "metadata": {},
   "source": [
    "# Trial of n-gaussian filter with sigma related to value\n",
    "Since it's difficult to formulate an all-in-one formulae,\n",
    "try to execute multiple gaussian filter on small matrix subset by applying a filter \n",
    "with a specific sigma depending on the area mean value"
   ]
  },
  {
   "cell_type": "code",
   "execution_count": 59,
   "metadata": {},
   "outputs": [],
   "source": [
    "origin_m = env.ground_truth[:,:,10]"
   ]
  },
  {
   "cell_type": "code",
   "execution_count": 90,
   "metadata": {},
   "outputs": [],
   "source": [
    "def sigma_v(v, gamma, mu=0.5, sigma=0.2):\n",
    "    return gamma * np.exp(-(v-mu)**2/(2*sigma**2))\n",
    "\n",
    "def n_gaussian_filter(m, ni, nj, sigma_v_func):\n",
    "    im = int(np.ceil(m.shape[0]/ni))\n",
    "    jm = int(np.ceil(m.shape[1]/nj))\n",
    "        \n",
    "    out_m = np.copy(m)\n",
    "    \n",
    "    for i in range(im):\n",
    "        for j in range(jm):\n",
    "            sub_m = out_m[i*ni:(i+1)*ni, j*nj:(j+1)*nj]\n",
    "            mean_sub_m = np.mean(sub_m)\n",
    "            \n",
    "            sub_m = gaussian_filter(sub_m, sigma=sigma_v_func(mean_sub_m))\n",
    "            \n",
    "            out_m[i*ni:(i+1)*ni, j*nj:(j+1)*nj] = sub_m\n",
    "            \n",
    "    return out_m"
   ]
  },
  {
   "cell_type": "code",
   "execution_count": 92,
   "metadata": {},
   "outputs": [
    {
     "name": "stdout",
     "output_type": "stream",
     "text": [
      "Duration n-gaussian-filter method = 0.0028700828552246094 seconds\n"
     ]
    },
    {
     "data": {
      "text/plain": [
       "<matplotlib.image.AxesImage at 0x7fb30c4ec9b0>"
      ]
     },
     "execution_count": 92,
     "metadata": {},
     "output_type": "execute_result"
    },
    {
     "data": {
      "image/png": "[encoded data removed]",
      "text/plain": [
       "<Figure size 432x288 with 1 Axes>"
      ]
     },
     "metadata": {
      "needs_background": "light"
     },
     "output_type": "display_data"
    }
   ],
   "source": [
    "t=time.time()\n",
    "m_ngauss = n_gaussian_filter(origin_m, ni=3, nj=3, sigma_v_func=sigma_v)\n",
    "dt = time.time() - t\n",
    "\n",
    "print(f\"Duration n-gaussian-filter method = {dt} seconds\")\n",
    "plt.imshow(m_ngauss, cmap='gray', vmin=0., vmax=1., interpolation='nearest', aspect='auto')"
   ]
  },
  {
   "cell_type": "code",
   "execution_count": 93,
   "metadata": {},
   "outputs": [
    {
     "data": {
      "text/plain": [
       "<matplotlib.image.AxesImage at 0x7fb30c45b198>"
      ]
     },
     "execution_count": 93,
     "metadata": {},
     "output_type": "execute_result"
    },
    {
     "data": {
      "image/png": "[encoded data removed]",
      "text/plain": [
       "<Figure size 432x288 with 1 Axes>"
      ]
     },
     "metadata": {
      "needs_background": "light"
     },
     "output_type": "display_data"
    }
   ],
   "source": [
    "plt.imshow(origin_m, cmap='gray', vmin=0., vmax=1., interpolation='nearest', aspect='auto')"
   ]
  },
  {
   "cell_type": "code",
   "execution_count": null,
   "metadata": {},
   "outputs": [],
   "source": []
  },
  {
   "cell_type": "code",
   "execution_count": 94,
   "metadata": {},
   "outputs": [
    {
     "data": {
      "image/png": "[encoded data removed]",
      "text/plain": [
       "<Figure size 432x288 with 1 Axes>"
      ]
     },
     "metadata": {
      "needs_background": "light"
     },
     "output_type": "display_data"
    }
   ],
   "source": [
    "x=np.arange(start=0, stop=1.1, step=0.1)\n",
    "mu=0.5\n",
    "sigma=0.2\n",
    "plt.plot(np.exp(-(x-mu)**2/(2*sigma**2)))\n",
    "plt.show()"
   ]
  },
  {
   "cell_type": "code",
   "execution_count": null,
   "metadata": {},
   "outputs": [],
   "source": []
  },
  {
   "cell_type": "code",
   "execution_count": null,
   "metadata": {},
   "outputs": [],
   "source": []
  }
 ],
 "metadata": {
  "kernelspec": {
   "display_name": "Python 3",
   "language": "python",
   "name": "python3"
  },
  "language_info": {
   "codemirror_mode": {
    "name": "ipython",
    "version": 3
   },
   "file_extension": ".py",
   "mimetype": "text/x-python",
   "name": "python",
   "nbconvert_exporter": "python",
   "pygments_lexer": "ipython3",
   "version": "3.6.8"
  }
 },
 "nbformat": 4,
 "nbformat_minor": 4
}
